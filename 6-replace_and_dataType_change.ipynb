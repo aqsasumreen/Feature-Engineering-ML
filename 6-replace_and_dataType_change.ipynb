{
 "cells": [
  {
   "metadata": {},
   "cell_type": "markdown",
   "source": "#### Mix data: unwanted data in column that mismatch the other data , e.g column han only numerical values, but somehow categorical data appears",
   "id": "4f2ab17a16046c08"
  },
  {
   "metadata": {
    "ExecuteTime": {
     "end_time": "2024-07-17T05:30:20.719196Z",
     "start_time": "2024-07-17T05:30:20.047452Z"
    }
   },
   "cell_type": "code",
   "source": [
    "import pandas as pd\n",
    "df  = pd.read_csv(\"loan.csv\")\n"
   ],
   "id": "ca181426564ccfbf",
   "outputs": [],
   "execution_count": 1
  },
  {
   "metadata": {
    "ExecuteTime": {
     "end_time": "2024-07-17T05:30:54.594371Z",
     "start_time": "2024-07-17T05:30:54.574697Z"
    }
   },
   "cell_type": "code",
   "source": "df.info()",
   "id": "e14581111e1d3364",
   "outputs": [
    {
     "name": "stdout",
     "output_type": "stream",
     "text": [
      "<class 'pandas.core.frame.DataFrame'>\n",
      "RangeIndex: 614 entries, 0 to 613\n",
      "Data columns (total 13 columns):\n",
      " #   Column             Non-Null Count  Dtype  \n",
      "---  ------             --------------  -----  \n",
      " 0   Loan_ID            614 non-null    object \n",
      " 1   Gender             601 non-null    object \n",
      " 2   Married            611 non-null    object \n",
      " 3   Dependents         599 non-null    object \n",
      " 4   Education          614 non-null    object \n",
      " 5   Self_Employed      582 non-null    object \n",
      " 6   ApplicantIncome    614 non-null    int64  \n",
      " 7   CoapplicantIncome  614 non-null    float64\n",
      " 8   LoanAmount         592 non-null    float64\n",
      " 9   Loan_Amount_Term   600 non-null    float64\n",
      " 10  Credit_History     564 non-null    float64\n",
      " 11  Property_Area      614 non-null    object \n",
      " 12  Loan_Status        614 non-null    object \n",
      "dtypes: float64(4), int64(1), object(8)\n",
      "memory usage: 62.5+ KB\n"
     ]
    }
   ],
   "execution_count": 3
  },
  {
   "metadata": {
    "ExecuteTime": {
     "end_time": "2024-07-17T05:36:28.935945Z",
     "start_time": "2024-07-17T05:36:28.925916Z"
    }
   },
   "cell_type": "code",
   "source": "df.isnull().sum()",
   "id": "1c433b89e102cbab",
   "outputs": [
    {
     "data": {
      "text/plain": [
       "Loan_ID               0\n",
       "Gender               13\n",
       "Married               3\n",
       "Dependents            0\n",
       "Education             0\n",
       "Self_Employed        32\n",
       "ApplicantIncome       0\n",
       "CoapplicantIncome     0\n",
       "LoanAmount           22\n",
       "Loan_Amount_Term     14\n",
       "Credit_History       50\n",
       "Property_Area         0\n",
       "Loan_Status           0\n",
       "dtype: int64"
      ]
     },
     "execution_count": 7,
     "metadata": {},
     "output_type": "execute_result"
    }
   ],
   "execution_count": 7
  },
  {
   "metadata": {},
   "cell_type": "markdown",
   "source": "##### check the Dependents columns, dtype must b int , it has mix data\n",
   "id": "9e6c36709f9d31ea"
  },
  {
   "metadata": {
    "ExecuteTime": {
     "end_time": "2024-07-17T05:38:34.764524Z",
     "start_time": "2024-07-17T05:38:34.754812Z"
    }
   },
   "cell_type": "code",
   "source": "df[\"Dependents\"].value_counts()",
   "id": "21fb20e106a5a384",
   "outputs": [
    {
     "data": {
      "text/plain": [
       "Dependents\n",
       "0    360\n",
       "1    102\n",
       "2    101\n",
       "3     51\n",
       "Name: count, dtype: int64"
      ]
     },
     "execution_count": 11,
     "metadata": {},
     "output_type": "execute_result"
    }
   ],
   "execution_count": 11
  },
  {
   "metadata": {},
   "cell_type": "markdown",
   "source": "###### fill null values",
   "id": "9d34cbecba35be3b"
  },
  {
   "metadata": {
    "ExecuteTime": {
     "end_time": "2024-07-17T05:36:23.787417Z",
     "start_time": "2024-07-17T05:36:23.779665Z"
    }
   },
   "cell_type": "code",
   "source": "df[\"Dependents\"] = df[\"Dependents\"].fillna(df[\"Dependents\"].mode()[0])",
   "id": "711bf8c1c4659d1b",
   "outputs": [],
   "execution_count": 6
  },
  {
   "metadata": {
    "ExecuteTime": {
     "end_time": "2024-07-17T05:38:29.323203Z",
     "start_time": "2024-07-17T05:38:29.316422Z"
    }
   },
   "cell_type": "code",
   "source": "df[\"Dependents\"] = df[\"Dependents\"].replace(\"3+\", \"3\") # dtype not changed , so replace in string format",
   "id": "f7f12872994bad28",
   "outputs": [],
   "execution_count": 10
  },
  {
   "metadata": {
    "ExecuteTime": {
     "end_time": "2024-07-17T05:40:23.169690Z",
     "start_time": "2024-07-17T05:40:23.159497Z"
    }
   },
   "cell_type": "code",
   "source": "df[\"Dependents\"] = df[\"Dependents\"].astype(\"int64\")",
   "id": "23b4ce75763257b9",
   "outputs": [],
   "execution_count": 12
  },
  {
   "metadata": {
    "ExecuteTime": {
     "end_time": "2024-07-17T05:40:33.542114Z",
     "start_time": "2024-07-17T05:40:33.527746Z"
    }
   },
   "cell_type": "code",
   "source": "df.info()",
   "id": "156ce83fae9712e",
   "outputs": [
    {
     "name": "stdout",
     "output_type": "stream",
     "text": [
      "<class 'pandas.core.frame.DataFrame'>\n",
      "RangeIndex: 614 entries, 0 to 613\n",
      "Data columns (total 13 columns):\n",
      " #   Column             Non-Null Count  Dtype  \n",
      "---  ------             --------------  -----  \n",
      " 0   Loan_ID            614 non-null    object \n",
      " 1   Gender             601 non-null    object \n",
      " 2   Married            611 non-null    object \n",
      " 3   Dependents         614 non-null    int64  \n",
      " 4   Education          614 non-null    object \n",
      " 5   Self_Employed      582 non-null    object \n",
      " 6   ApplicantIncome    614 non-null    int64  \n",
      " 7   CoapplicantIncome  614 non-null    float64\n",
      " 8   LoanAmount         592 non-null    float64\n",
      " 9   Loan_Amount_Term   600 non-null    float64\n",
      " 10  Credit_History     564 non-null    float64\n",
      " 11  Property_Area      614 non-null    object \n",
      " 12  Loan_Status        614 non-null    object \n",
      "dtypes: float64(4), int64(2), object(7)\n",
      "memory usage: 62.5+ KB\n"
     ]
    }
   ],
   "execution_count": 13
  },
  {
   "metadata": {},
   "cell_type": "code",
   "outputs": [],
   "execution_count": null,
   "source": "",
   "id": "dcc04f84527f720a"
  }
 ],
 "metadata": {
  "kernelspec": {
   "display_name": "Python 3",
   "language": "python",
   "name": "python3"
  },
  "language_info": {
   "codemirror_mode": {
    "name": "ipython",
    "version": 2
   },
   "file_extension": ".py",
   "mimetype": "text/x-python",
   "name": "python",
   "nbconvert_exporter": "python",
   "pygments_lexer": "ipython2",
   "version": "2.7.6"
  }
 },
 "nbformat": 4,
 "nbformat_minor": 5
}
