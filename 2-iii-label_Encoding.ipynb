{
 "cells": [
  {
   "cell_type": "code",
   "id": "initial_id",
   "metadata": {
    "collapsed": true,
    "ExecuteTime": {
     "end_time": "2024-07-16T04:34:09.125687Z",
     "start_time": "2024-07-16T04:34:06.570307Z"
    }
   },
   "source": "import pandas as pd",
   "outputs": [],
   "execution_count": 1
  },
  {
   "metadata": {},
   "cell_type": "markdown",
   "source": [
    "### Why use encding in DataScinece?\n",
    "###### Ml algorithms only applicable on numerical data , dose not work with categorical data\n",
    "###### so we need encding to convert data"
   ],
   "id": "a3dbcb1feedac0f1"
  },
  {
   "metadata": {},
   "cell_type": "markdown",
   "source": "#### Label Encoding\n",
   "id": "81b2fc051f95b7f"
  },
  {
   "metadata": {},
   "cell_type": "markdown",
   "source": "###### it performs on nominal data ,, means no connection among data\n",
   "id": "6d2959f147dc5af8"
  },
  {
   "metadata": {
    "ExecuteTime": {
     "end_time": "2024-07-16T04:34:19.572386Z",
     "start_time": "2024-07-16T04:34:19.532437Z"
    }
   },
   "cell_type": "code",
   "source": [
    "df  = pd.DataFrame({'name': [\"Yt\", \"crow\", \"Black\", \"laptop\", \"cat\"]})\n",
    "df"
   ],
   "id": "4a75a7eed141c48a",
   "outputs": [
    {
     "data": {
      "text/plain": [
       "     name\n",
       "0      Yt\n",
       "1    crow\n",
       "2   Black\n",
       "3  laptop\n",
       "4     cat"
      ],
      "text/html": [
       "<div>\n",
       "<style scoped>\n",
       "    .dataframe tbody tr th:only-of-type {\n",
       "        vertical-align: middle;\n",
       "    }\n",
       "\n",
       "    .dataframe tbody tr th {\n",
       "        vertical-align: top;\n",
       "    }\n",
       "\n",
       "    .dataframe thead th {\n",
       "        text-align: right;\n",
       "    }\n",
       "</style>\n",
       "<table border=\"1\" class=\"dataframe\">\n",
       "  <thead>\n",
       "    <tr style=\"text-align: right;\">\n",
       "      <th></th>\n",
       "      <th>name</th>\n",
       "    </tr>\n",
       "  </thead>\n",
       "  <tbody>\n",
       "    <tr>\n",
       "      <th>0</th>\n",
       "      <td>Yt</td>\n",
       "    </tr>\n",
       "    <tr>\n",
       "      <th>1</th>\n",
       "      <td>crow</td>\n",
       "    </tr>\n",
       "    <tr>\n",
       "      <th>2</th>\n",
       "      <td>Black</td>\n",
       "    </tr>\n",
       "    <tr>\n",
       "      <th>3</th>\n",
       "      <td>laptop</td>\n",
       "    </tr>\n",
       "    <tr>\n",
       "      <th>4</th>\n",
       "      <td>cat</td>\n",
       "    </tr>\n",
       "  </tbody>\n",
       "</table>\n",
       "</div>"
      ]
     },
     "execution_count": 2,
     "metadata": {},
     "output_type": "execute_result"
    }
   ],
   "execution_count": 2
  },
  {
   "metadata": {
    "ExecuteTime": {
     "end_time": "2024-07-16T04:34:37.142555Z",
     "start_time": "2024-07-16T04:34:33.382971Z"
    }
   },
   "cell_type": "code",
   "source": [
    "from sklearn.preprocessing import   LabelEncoder\n",
    "le = LabelEncoder()\n",
    "# Model ko deploye krna hy tou phly fit kr lety then transform , Jb training model ata tou usy fitTransform krna hta again\n",
    "df[\"en_name\"]  = le.fit_transform(df[\"name\"])\n",
    "df"
   ],
   "id": "c49e910bb247c64d",
   "outputs": [
    {
     "data": {
      "text/plain": [
       "     name  en_name\n",
       "0      Yt        1\n",
       "1    crow        3\n",
       "2   Black        0\n",
       "3  laptop        4\n",
       "4     cat        2"
      ],
      "text/html": [
       "<div>\n",
       "<style scoped>\n",
       "    .dataframe tbody tr th:only-of-type {\n",
       "        vertical-align: middle;\n",
       "    }\n",
       "\n",
       "    .dataframe tbody tr th {\n",
       "        vertical-align: top;\n",
       "    }\n",
       "\n",
       "    .dataframe thead th {\n",
       "        text-align: right;\n",
       "    }\n",
       "</style>\n",
       "<table border=\"1\" class=\"dataframe\">\n",
       "  <thead>\n",
       "    <tr style=\"text-align: right;\">\n",
       "      <th></th>\n",
       "      <th>name</th>\n",
       "      <th>en_name</th>\n",
       "    </tr>\n",
       "  </thead>\n",
       "  <tbody>\n",
       "    <tr>\n",
       "      <th>0</th>\n",
       "      <td>Yt</td>\n",
       "      <td>1</td>\n",
       "    </tr>\n",
       "    <tr>\n",
       "      <th>1</th>\n",
       "      <td>crow</td>\n",
       "      <td>3</td>\n",
       "    </tr>\n",
       "    <tr>\n",
       "      <th>2</th>\n",
       "      <td>Black</td>\n",
       "      <td>0</td>\n",
       "    </tr>\n",
       "    <tr>\n",
       "      <th>3</th>\n",
       "      <td>laptop</td>\n",
       "      <td>4</td>\n",
       "    </tr>\n",
       "    <tr>\n",
       "      <th>4</th>\n",
       "      <td>cat</td>\n",
       "      <td>2</td>\n",
       "    </tr>\n",
       "  </tbody>\n",
       "</table>\n",
       "</div>"
      ]
     },
     "execution_count": 3,
     "metadata": {},
     "output_type": "execute_result"
    }
   ],
   "execution_count": 3
  },
  {
   "metadata": {
    "ExecuteTime": {
     "end_time": "2024-07-16T04:35:53.814309Z",
     "start_time": "2024-07-16T04:35:53.784410Z"
    }
   },
   "cell_type": "code",
   "source": [
    "dataset = pd.read_csv(\"loan.csv\")\n",
    "la= LabelEncoder()"
   ],
   "id": "1f46b89beeef6f48",
   "outputs": [],
   "execution_count": 5
  },
  {
   "metadata": {
    "ExecuteTime": {
     "end_time": "2024-07-16T04:35:55.510601Z",
     "start_time": "2024-07-16T04:35:55.499790Z"
    }
   },
   "cell_type": "code",
   "source": "dataset[\"Property_Area\"].unique()",
   "id": "a660a6d995e77304",
   "outputs": [
    {
     "data": {
      "text/plain": [
       "array(['Urban', 'Rural', 'Semiurban'], dtype=object)"
      ]
     },
     "execution_count": 6,
     "metadata": {},
     "output_type": "execute_result"
    }
   ],
   "execution_count": 6
  },
  {
   "metadata": {},
   "cell_type": "code",
   "source": [
    "la.fit(dataset[\"Property_Area\"])\n",
    "la"
   ],
   "id": "dd0291ffe53ff670",
   "outputs": [],
   "execution_count": null
  },
  {
   "metadata": {
    "ExecuteTime": {
     "end_time": "2024-07-16T04:36:14.505160Z",
     "start_time": "2024-07-16T04:36:14.497010Z"
    }
   },
   "cell_type": "code",
   "source": "dataset[\"Property_Area\"]= la.transform(dataset[\"Property_Area\"])",
   "id": "f5408381f84db881",
   "outputs": [],
   "execution_count": 8
  },
  {
   "metadata": {
    "ExecuteTime": {
     "end_time": "2024-07-16T04:36:23.048015Z",
     "start_time": "2024-07-16T04:36:23.033666Z"
    }
   },
   "cell_type": "code",
   "source": "dataset[\"Property_Area\"].unique() # Urban , Rular, SemiUrban",
   "id": "88ae1ba319add417",
   "outputs": [
    {
     "data": {
      "text/plain": [
       "array([2, 0, 1])"
      ]
     },
     "execution_count": 9,
     "metadata": {},
     "output_type": "execute_result"
    }
   ],
   "execution_count": 9
  },
  {
   "metadata": {},
   "cell_type": "code",
   "outputs": [],
   "execution_count": null,
   "source": "",
   "id": "980d715cfdd2e9b5"
  }
 ],
 "metadata": {
  "kernelspec": {
   "display_name": "Python 3",
   "language": "python",
   "name": "python3"
  },
  "language_info": {
   "codemirror_mode": {
    "name": "ipython",
    "version": 2
   },
   "file_extension": ".py",
   "mimetype": "text/x-python",
   "name": "python",
   "nbconvert_exporter": "python",
   "pygments_lexer": "ipython2",
   "version": "2.7.6"
  }
 },
 "nbformat": 4,
 "nbformat_minor": 5
}
